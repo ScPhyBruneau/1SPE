{
  "nbformat": 4,
  "nbformat_minor": 0,
  "metadata": {
    "colab": {
      "provenance": [],
      "authorship_tag": "ABX9TyPUmNRdbC4GQ6f/3yfKY1TY",
      "include_colab_link": true
    },
    "kernelspec": {
      "name": "python3",
      "display_name": "Python 3"
    },
    "language_info": {
      "name": "python"
    }
  },
  "cells": [
    {
      "cell_type": "markdown",
      "metadata": {
        "id": "view-in-github",
        "colab_type": "text"
      },
      "source": [
        "<a href=\"https://colab.research.google.com/github/ScPhyBruneau/1SPE/blob/main/Act271.ipynb\" target=\"_parent\"><img src=\"https://colab.research.google.com/assets/colab-badge.svg\" alt=\"Open In Colab\"/></a>"
      ]
    },
    {
      "cell_type": "markdown",
      "source": [
        "# Actvité p 271"
      ],
      "metadata": {
        "id": "OHaPv9IUW8mF"
      }
    },
    {
      "cell_type": "code",
      "execution_count": null,
      "metadata": {
        "id": "68sbvK2VWz2z"
      },
      "outputs": [],
      "source": [
        "import matplotlib.pyplot as plt\n",
        "x=[]\n",
        "y=[]\n",
        "plt.plot(x,y,'r+',ms=20.) # tracé des points, ms détermine la taille des marqueurs.\n",
        "plt.axis('equal')\n",
        "def vitesse(x,y,i) :\n",
        "  # x et y sont des listes contenant les coordonnées, i le numéro du point\n",
        "  # dont on affiche la vitesse\n",
        "  plt.arrow(x[i],y[i],(x[i+1]-x[i]),(y[i+1]-y[i]) , shape='full', lw=1,\n",
        "  length_includes_head=True, rasterized=True, color='c', head_width=.05,fc='c')\n",
        "vitesse(x,y,4) # appel de la fonction, ici au point 5 (4+1).\n",
        "plt.show() # affichage du tracé."
      ]
    }
  ]
}